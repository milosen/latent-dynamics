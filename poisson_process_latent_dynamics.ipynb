{
 "cells": [
  {
   "cell_type": "code",
   "execution_count": null,
   "id": "7b660405",
   "metadata": {},
   "outputs": [],
   "source": [
    "import matplotlib.pyplot as plt\n",
    "from elephant.spike_train_generation import NonStationaryPoissonProcess\n",
    "from neo.core import SpikeTrain, AnalogSignal\n",
    "from quantities import s, ms, Hz\n",
    "import numpy as np"
   ]
  },
  {
   "cell_type": "markdown",
   "id": "c0a6023b",
   "metadata": {},
   "source": [
    "# Plots\n",
    "\n",
    "Let's first set up some helper functions for plotting dynamics\n",
    "\n",
    "$\\mathbf{\\dot{z}} = f(\\mathbf{z})$"
   ]
  },
  {
   "cell_type": "code",
   "execution_count": null,
   "id": "54d12e67",
   "metadata": {},
   "outputs": [],
   "source": [
    "def f(A, x):\n",
    "    if len(x.shape) > 1:\n",
    "        x = np.expand_dims(x, -1)\n",
    "    dx_dt = np.dot(A, x)\n",
    "    return np.squeeze(dx_dt)\n",
    "\n",
    "def odeint(a, x0, dt, T):\n",
    "    # Initialize variables\n",
    "    t = np.arange(0, T, dt)\n",
    "    x = np.zeros([t.shape[0], x0.shape[0]])\n",
    "    x[0] = x0 # This is x at time t_0\n",
    "\n",
    "    # Step through system and integrate in time\n",
    "    for k in range(1, len(t)):\n",
    "        # for each point in time, compute xdot from x[k-1]\n",
    "        xdot = f(a, x[k-1])\n",
    "\n",
    "        # Update x based on x[k-1] and xdot\n",
    "        x[k] = x[k-1] +  xdot * dt\n",
    "\n",
    "    return x, t\n",
    "\n",
    "\n",
    "# Choose parameters\n",
    "A = np.array([[-0.5, 1], [-1, 0]])    # parameter in f(x)\n",
    "T = 10      # total Time duration\n",
    "dt = 0.001  # timestep of our simulation\n",
    "x0 = np.array([1, 1])     # initial condition of x at time 0\n",
    "\n",
    "# Use Euler's method\n",
    "x, t = odeint(A, x0, dt, T)\n",
    "\n",
    "_, axs = plt.subplots(1, 2, figsize=(15, 5))\n",
    "\n",
    "# Visualize\n",
    "axs[0].plot(t, x[:, 0], label=\"z1\")\n",
    "axs[0].plot(t, x[:, 1], label=\"z2\")\n",
    "axs[0].set_ylabel(\"trajectory\")\n",
    "axs[0].set_xlabel(\"time/s\")\n",
    "axs[0].legend()\n",
    "\n",
    "# Define the ranges of x1 and x2 values\n",
    "x1_range = np.arange(-1.5, 1.5, 0.2)\n",
    "x2_range = np.arange(-1.5, 1.5, 0.2)\n",
    "\n",
    "# Create a meshgrid of x1 and x2 values\n",
    "X1, X2 = np.meshgrid(x1_range, x2_range)\n",
    "\n",
    "# Compute the linear dynamical system vector field at each point in the meshgrid\n",
    "dx1_dt, dx2_dt = f(A, np.stack([X1, X2], axis=-1))\n",
    "\n",
    "# Plot the vector field\n",
    "axs[1].quiver(X1, X2, dx1_dt, dx2_dt, color='r', label=\"vector field\")\n",
    "axs[1].set_xlabel('z1')\n",
    "axs[1].set_ylabel('z2')\n",
    "axs[1].set_title('Vector Field')\n",
    "axs[1].grid()\n",
    "axs[1].plot(x[:,0], x[:,1], label=\"trajectory\")\n",
    "axs[1].legend()\n",
    "\n",
    "plt.show()"
   ]
  },
  {
   "cell_type": "code",
   "execution_count": null,
   "id": "9ec918d0",
   "metadata": {},
   "outputs": [],
   "source": []
  },
  {
   "cell_type": "code",
   "execution_count": null,
   "id": "5e5132ca",
   "metadata": {},
   "outputs": [],
   "source": []
  },
  {
   "cell_type": "markdown",
   "id": "23a1f66c",
   "metadata": {},
   "source": [
    "# Ground-Truth: spike train generation from latent dynamics\n",
    "\n",
    "We simulate a poisson process conditional on latent dynamics:\n",
    "\n",
    "\n",
    "$\\mathbf{\\dot{z}} = f(\\mathbf{z})$\n",
    "\n",
    "$\\lambda(t) = \\mathrm{exp}(\\gamma \\, \\mathbf{w_{rand}} \\, \\mathbf{z})$\n",
    "\n",
    "$\\mathbf{x} \\sim Poisson(\\cdot|\\lambda(t))$\n",
    "\n",
    "Where $gamma$ is some constant factor and $\\mathbf{w_{rand}}$ is a fixed $\\mathrm{dim}(\\mathbf{x}) \\times \\mathrm{dim}(\\mathbf{z})$ matrix with randomly generated entries."
   ]
  },
  {
   "cell_type": "code",
   "execution_count": null,
   "id": "eb9f3647",
   "metadata": {},
   "outputs": [],
   "source": [
    "sigmoid = lambda z: 1/(1 + np.exp(-z))\n",
    "\n",
    "w_rand = np.random.random_sample([4, 2])\n",
    "gamma = 3\n",
    "\n",
    "_, axs = plt.subplots(4, 3, figsize=(20, 15))\n",
    "axs[0, 0].plot(t, x[:, 0], label=\"z1\")\n",
    "axs[0, 0].plot(t, x[:, 1], label=\"z2\")\n",
    "axs[0, 0].set_ylabel(\"latent trajectory\")\n",
    "axs[0, 0].set_xlabel(\"time/s\")\n",
    "axs[0, 0].legend()\n",
    "\n",
    "axs[1, 0].axis(\"off\")\n",
    "axs[2, 0].axis(\"off\")\n",
    "axs[3, 0].axis(\"off\")\n",
    "\n",
    "rate_signal = np.exp((gamma*w_rand@np.expand_dims(x, -1)).squeeze())\n",
    "\n",
    "for i, r in enumerate(rate_signal.transpose()):\n",
    "    rate = AnalogSignal(r, units=Hz, sampling_period=ms)\n",
    "    axs[i, 1].plot(rate)\n",
    "    axs[i, 1].set_ylabel(\"rate/Hz\")\n",
    "    axs[i, 1].set_xlabel(\"time/ms\")\n",
    "    # axs[i, 1].set_xticklabels([f\"{i}\" for i in range(10)])\n",
    "    p = NonStationaryPoissonProcess(rate_signal=rate)\n",
    "    train = p.generate_spiketrain()\n",
    "    axs[i, 2].eventplot([train.magnitude[::4]], linelengths=0.75, color='black')\n",
    "    axs[i, 2].set_xlabel(\"time/s\")\n",
    "\n",
    "plt.show()"
   ]
  },
  {
   "cell_type": "markdown",
   "id": "021b6505",
   "metadata": {},
   "source": [
    "# Inference\n",
    "\n",
    "Now, we would like to infer (a distribution over) the latent dynamics -- in a scalable manner -- by only observing $\\mathbf{x}$ (the spike times).\n",
    "\n",
    "Here are some references:\n",
    "\n",
    "[1] Anqi Wu, Nicholas A. Roy, Stephen Keeley, Jonathan W. Pillow, *Gaussian process based nonlinear latent structure discovery in multivariate spike train data*, https://proceedings.neurips.cc/paper/2017/hash/b3b4d2dbedc99fe843fd3dedb02f086f-Abstract.html\n",
    "\n",
    "[2] Qi She, Anqi Wu, *Neural Dynamics Discovery via Gaussian Process Recurrent Neural Networks*, http://proceedings.mlr.press/v115/she20a.html\n",
    "\n",
    "## TODOs\n",
    "\n",
    "- (re-) implement the methods above and/or LFADS or something\n",
    "- maybe we can come up with an alternative to [1] and [2] using either GP dynamics models and/or neural odes. The idea would be similar to [2] but "
   ]
  },
  {
   "cell_type": "code",
   "execution_count": null,
   "id": "ffee9f6d",
   "metadata": {},
   "outputs": [],
   "source": []
  },
  {
   "cell_type": "code",
   "execution_count": null,
   "id": "8ee8fb57",
   "metadata": {},
   "outputs": [],
   "source": []
  },
  {
   "cell_type": "code",
   "execution_count": null,
   "id": "46a06973",
   "metadata": {},
   "outputs": [],
   "source": []
  },
  {
   "cell_type": "code",
   "execution_count": null,
   "id": "b8c66eed",
   "metadata": {},
   "outputs": [],
   "source": []
  }
 ],
 "metadata": {
  "kernelspec": {
   "display_name": "Python 3 (ipykernel)",
   "language": "python",
   "name": "python3"
  },
  "language_info": {
   "codemirror_mode": {
    "name": "ipython",
    "version": 3
   },
   "file_extension": ".py",
   "mimetype": "text/x-python",
   "name": "python",
   "nbconvert_exporter": "python",
   "pygments_lexer": "ipython3",
   "version": "3.10.10"
  }
 },
 "nbformat": 4,
 "nbformat_minor": 5
}
